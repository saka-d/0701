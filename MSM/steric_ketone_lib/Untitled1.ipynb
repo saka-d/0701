{
 "cells": [
  {
   "cell_type": "code",
   "execution_count": 1,
   "id": "7b755711",
   "metadata": {},
   "outputs": [
    {
     "data": {
      "image/png": "[encoded data removed]",
      "text/plain": [
       "<rdkit.Chem.rdchem.Mol at 0x2958454d940>"
      ]
     },
     "execution_count": 1,
     "metadata": {},
     "output_type": "execute_result"
    }
   ],
   "source": [
    "from rdkit import Chem\n",
    "from rdkit.Chem import AllChem\n",
    "name=\"C1CCCCC1\"\n",
    "mol=Chem.MolFromSmiles(name)\n",
    "mol=Chem.AddHs(mol)\n",
    "cids=AllChem.EmbedMultipleConfs(mol, numConfs=10 , randomSeed=1, pruneRmsThresh=0.1, numThreads=0)\n",
    "mol"
   ]
  },
  {
   "cell_type": "code",
   "execution_count": 7,
   "id": "bfe3ccfe",
   "metadata": {},
   "outputs": [
    {
     "data": {
      "application/3dmoljs_load.v0": "<div id=\"3dmolviewer_16563216761558378\"  style=\"position: relative; width: 400px; height: 400px\">\n        <p id=\"3dmolwarning_16563216761558378\" style=\"background-color:#ffcccc;color:black\">You appear to be running in JupyterLab (or JavaScript failed to load for some other reason).  You need to install the 3dmol extension: <br>\n        <tt>jupyter labextension install jupyterlab_3dmol</tt></p>\n        </div>\n<script>\n\nvar loadScriptAsync = function(uri){\n  return new Promise((resolve, reject) => {\n    var tag = document.createElement('script');\n    tag.src = uri;\n    tag.async = true;\n    tag.onload = () => {\n      resolve();\n    };\n  var firstScriptTag = document.getElementsByTagName('script')[0];\n  firstScriptTag.parentNode.insertBefore(tag, firstScriptTag);\n});\n};\n\nif(typeof $3Dmolpromise === 'undefined') {\n$3Dmolpromise = null;\n  $3Dmolpromise = loadScriptAsync('https://3dmol.org/build/3Dmol.js');\n}\n\nvar viewer_16563216761558378 = null;\nvar warn = document.getElementById(\"3dmolwarning_16563216761558378\");\nif(warn) {\n    warn.parentNode.removeChild(warn);\n}\n$3Dmolpromise.then(function() {\nviewer_16563216761558378 = $3Dmol.createViewer($(\"#3dmolviewer_16563216761558378\"),{backgroundColor:\"white\"});\nviewer_16563216761558378.zoomTo();\n\tviewer_16563216761558378.removeAllModels();\n\tviewer_16563216761558378.addModel(\"\\n     RDKit          3D\\n\\n 18 18  0  0  0  0  0  0  0  0999 V2000\\n   -0.4276    1.4468    0.0459 C   0  0  0  0  0  0  0  0  0  0  0  0\\n   -1.4114    0.2789    0.1430 C   0  0  0  0  0  0  0  0  0  0  0  0\\n   -0.9084   -0.9499   -0.6023 C   0  0  0  0  0  0  0  0  0  0  0  0\\n    0.4276   -1.4468   -0.0459 C   0  0  0  0  0  0  0  0  0  0  0  0\\n    1.2889   -0.3375    0.5614 C   0  0  0  0  0  0  0  0  0  0  0  0\\n    1.0309    1.0085   -0.1021 C   0  0  0  0  0  0  0  0  0  0  0  0\\n   -0.5382    2.0736    0.9392 H   0  0  0  0  0  0  0  0  0  0  0  0\\n   -0.6905    2.0840   -0.8072 H   0  0  0  0  0  0  0  0  0  0  0  0\\n   -2.3880    0.5874   -0.2469 H   0  0  0  0  0  0  0  0  0  0  0  0\\n   -1.5648    0.0204    1.1984 H   0  0  0  0  0  0  0  0  0  0  0  0\\n   -0.7893   -0.7013   -1.6645 H   0  0  0  0  0  0  0  0  0  0  0  0\\n   -1.6499   -1.7553   -0.5524 H   0  0  0  0  0  0  0  0  0  0  0  0\\n    0.9791   -1.9460   -0.8519 H   0  0  0  0  0  0  0  0  0  0  0  0\\n    0.2496   -2.2115    0.7199 H   0  0  0  0  0  0  0  0  0  0  0  0\\n    2.3479   -0.6066    0.4775 H   0  0  0  0  0  0  0  0  0  0  0  0\\n    1.0722   -0.2559    1.6341 H   0  0  0  0  0  0  0  0  0  0  0  0\\n    1.6900    1.7745    0.3219 H   0  0  0  0  0  0  0  0  0  0  0  0\\n    1.2819    0.9368   -1.1681 H   0  0  0  0  0  0  0  0  0  0  0  0\\n  1  2  1  0\\n  2  3  1  0\\n  3  4  1  0\\n  4  5  1  0\\n  5  6  1  0\\n  6  1  1  0\\n  1  7  1  0\\n  1  8  1  0\\n  2  9  1  0\\n  2 10  1  0\\n  3 11  1  0\\n  3 12  1  0\\n  4 13  1  0\\n  4 14  1  0\\n  5 15  1  0\\n  5 16  1  0\\n  6 17  1  0\\n  6 18  1  0\\nM  END\\n\",\"sdf\");\n\tviewer_16563216761558378.setStyle({\"stick\": {}});\n\tviewer_16563216761558378.setBackgroundColor(\"0xeeeeee\");\n\tviewer_16563216761558378.zoomTo();\nviewer_16563216761558378.render();\n});\n</script>",
      "text/html": [
       "<div id=\"3dmolviewer_16563216761558378\"  style=\"position: relative; width: 400px; height: 400px\">\n",
       "        <p id=\"3dmolwarning_16563216761558378\" style=\"background-color:#ffcccc;color:black\">You appear to be running in JupyterLab (or JavaScript failed to load for some other reason).  You need to install the 3dmol extension: <br>\n",
       "        <tt>jupyter labextension install jupyterlab_3dmol</tt></p>\n",
       "        </div>\n",
       "<script>\n",
       "\n",
       "var loadScriptAsync = function(uri){\n",
       "  return new Promise((resolve, reject) => {\n",
       "    var tag = document.createElement('script');\n",
       "    tag.src = uri;\n",
       "    tag.async = true;\n",
       "    tag.onload = () => {\n",
       "      resolve();\n",
       "    };\n",
       "  var firstScriptTag = document.getElementsByTagName('script')[0];\n",
       "  firstScriptTag.parentNode.insertBefore(tag, firstScriptTag);\n",
       "});\n",
       "};\n",
       "\n",
       "if(typeof $3Dmolpromise === 'undefined') {\n",
       "$3Dmolpromise = null;\n",
       "  $3Dmolpromise = loadScriptAsync('https://3dmol.org/build/3Dmol.js');\n",
       "}\n",
       "\n",
       "var viewer_16563216761558378 = null;\n",
       "var warn = document.getElementById(\"3dmolwarning_16563216761558378\");\n",
       "if(warn) {\n",
       "    warn.parentNode.removeChild(warn);\n",
       "}\n",
       "$3Dmolpromise.then(function() {\n",
       "viewer_16563216761558378 = $3Dmol.createViewer($(\"#3dmolviewer_16563216761558378\"),{backgroundColor:\"white\"});\n",
       "viewer_16563216761558378.zoomTo();\n",
       "\tviewer_16563216761558378.removeAllModels();\n",
       "\tviewer_16563216761558378.addModel(\"\\n     RDKit          3D\\n\\n 18 18  0  0  0  0  0  0  0  0999 V2000\\n   -0.4276    1.4468    0.0459 C   0  0  0  0  0  0  0  0  0  0  0  0\\n   -1.4114    0.2789    0.1430 C   0  0  0  0  0  0  0  0  0  0  0  0\\n   -0.9084   -0.9499   -0.6023 C   0  0  0  0  0  0  0  0  0  0  0  0\\n    0.4276   -1.4468   -0.0459 C   0  0  0  0  0  0  0  0  0  0  0  0\\n    1.2889   -0.3375    0.5614 C   0  0  0  0  0  0  0  0  0  0  0  0\\n    1.0309    1.0085   -0.1021 C   0  0  0  0  0  0  0  0  0  0  0  0\\n   -0.5382    2.0736    0.9392 H   0  0  0  0  0  0  0  0  0  0  0  0\\n   -0.6905    2.0840   -0.8072 H   0  0  0  0  0  0  0  0  0  0  0  0\\n   -2.3880    0.5874   -0.2469 H   0  0  0  0  0  0  0  0  0  0  0  0\\n   -1.5648    0.0204    1.1984 H   0  0  0  0  0  0  0  0  0  0  0  0\\n   -0.7893   -0.7013   -1.6645 H   0  0  0  0  0  0  0  0  0  0  0  0\\n   -1.6499   -1.7553   -0.5524 H   0  0  0  0  0  0  0  0  0  0  0  0\\n    0.9791   -1.9460   -0.8519 H   0  0  0  0  0  0  0  0  0  0  0  0\\n    0.2496   -2.2115    0.7199 H   0  0  0  0  0  0  0  0  0  0  0  0\\n    2.3479   -0.6066    0.4775 H   0  0  0  0  0  0  0  0  0  0  0  0\\n    1.0722   -0.2559    1.6341 H   0  0  0  0  0  0  0  0  0  0  0  0\\n    1.6900    1.7745    0.3219 H   0  0  0  0  0  0  0  0  0  0  0  0\\n    1.2819    0.9368   -1.1681 H   0  0  0  0  0  0  0  0  0  0  0  0\\n  1  2  1  0\\n  2  3  1  0\\n  3  4  1  0\\n  4  5  1  0\\n  5  6  1  0\\n  6  1  1  0\\n  1  7  1  0\\n  1  8  1  0\\n  2  9  1  0\\n  2 10  1  0\\n  3 11  1  0\\n  3 12  1  0\\n  4 13  1  0\\n  4 14  1  0\\n  5 15  1  0\\n  5 16  1  0\\n  6 17  1  0\\n  6 18  1  0\\nM  END\\n\",\"sdf\");\n",
       "\tviewer_16563216761558378.setStyle({\"stick\": {}});\n",
       "\tviewer_16563216761558378.setBackgroundColor(\"0xeeeeee\");\n",
       "\tviewer_16563216761558378.zoomTo();\n",
       "viewer_16563216761558378.render();\n",
       "});\n",
       "</script>"
      ]
     },
     "metadata": {},
     "output_type": "display_data"
    }
   ],
   "source": [
    "from rdkit.Chem.Draw import IPythonConsole\n",
    "IPythonConsole.drawMol3D(mol,confId=1)"
   ]
  },
  {
   "cell_type": "code",
   "execution_count": 3,
   "id": "9f0b36de",
   "metadata": {},
   "outputs": [
    {
     "data": {
      "text/plain": [
       "[[-3.560933542913406, 0], [2.3688122496560027, 1]]"
      ]
     },
     "execution_count": 3,
     "metadata": {},
     "output_type": "execute_result"
    }
   ],
   "source": [
    "energies=[]\n",
    "for cid in cids:#構造最適化\n",
    "    mmff=AllChem.MMFFGetMoleculeForceField(mol, AllChem.MMFFGetMoleculeProperties(mol), confId=cid)#使用する力場\n",
    "    mmff.Minimize()#MM計算\n",
    "    energies.append([mmff.CalcEnergy(), cid])#計算した配座、エネルギーをenergyリストに追加\n",
    "energies"
   ]
  }
 ],
 "metadata": {
  "kernelspec": {
   "display_name": "Python 3 (ipykernel)",
   "language": "python",
   "name": "python3"
  },
  "language_info": {
   "codemirror_mode": {
    "name": "ipython",
    "version": 3
   },
   "file_extension": ".py",
   "mimetype": "text/x-python",
   "name": "python",
   "nbconvert_exporter": "python",
   "pygments_lexer": "ipython3",
   "version": "3.9.7"
  }
 },
 "nbformat": 4,
 "nbformat_minor": 5
}
